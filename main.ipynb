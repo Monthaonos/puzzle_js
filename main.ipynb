{
 "cells": [
  {
   "cell_type": "code",
   "execution_count": 15,
   "metadata": {},
   "outputs": [],
   "source": [
    "grid_5 = [[0,0,0,0,4], [0,0,3,0,0], [3,2,0,5,0], [0,0,1,0,0], [0,0,0,0,4]]\n",
    "\n",
    "# Indices sur les côtés, haut droite bas gquche\n",
    "sides_5 = [[0,0,0,0,0], [0,\"U\",0,\"F\",0], [0,0,0,0,0], [\"U\",0,0,0,\"Y\"]]\n"
   ]
  },
  {
   "cell_type": "code",
   "execution_count": null,
   "metadata": {},
   "outputs": [
    {
     "name": "stdout",
     "output_type": "stream",
     "text": [
      "     \n",
      " - - - - -\n",
      "|0|0|0|0|4|\n",
      "     \n",
      " - - - - -\n",
      "|0|0|3|0|0|\n",
      "     \n",
      " - - - - -\n",
      "|3|2|0|5|0|\n",
      "     \n",
      " - - - - -\n",
      "|0|0|1|0|0|\n",
      "     \n",
      " - - - - -\n",
      "|0|0|0|0|4|\n"
     ]
    }
   ],
   "source": [
    "def print_grid(grid : list, sides : list):\n",
    "    n = len(grid)\n",
    "    for j in range(n):\n",
    "        if sides[0][j] != 0:\n",
    "            print(sides[0][j], end=\"\")\n",
    "        else:\n",
    "            print(\" \", end=\"\")\n",
    "    print(\"\")\n",
    "    for i in range(n):\n",
    "        for j in range(n):\n",
    "            print(\" -\", end=\"\")\n",
    "        print(\"\")\n",
    "        for j in range(n):\n",
    "            print(\"|\", end=\"\")\n",
    "            print(grid[i][j], end=\"\")\n",
    "        print(\"|\", end=\"\")\n",
    "        print(\"\")\n",
    "\n",
    "\n",
    "print_grid(grid_5, sides_5)"
   ]
  }
 ],
 "metadata": {
  "kernelspec": {
   "display_name": "base",
   "language": "python",
   "name": "python3"
  },
  "language_info": {
   "codemirror_mode": {
    "name": "ipython",
    "version": 3
   },
   "file_extension": ".py",
   "mimetype": "text/x-python",
   "name": "python",
   "nbconvert_exporter": "python",
   "pygments_lexer": "ipython3",
   "version": "3.12.4"
  }
 },
 "nbformat": 4,
 "nbformat_minor": 2
}
